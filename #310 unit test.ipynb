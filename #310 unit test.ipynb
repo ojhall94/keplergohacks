{
 "cells": [
  {
   "cell_type": "code",
   "execution_count": 1,
   "metadata": {},
   "outputs": [
    {
     "data": {
      "text/plain": [
       "<matplotlib.axes._subplots.AxesSubplot at 0x7fc8e3d251d0>"
      ]
     },
     "execution_count": 1,
     "metadata": {},
     "output_type": "execute_result"
    },
    {
     "name": "stderr",
     "output_type": "stream",
     "text": [
      "/home/oliver/.local/lib/python3.6/site-packages/matplotlib/font_manager.py:1241: UserWarning: findfont: Font family ['serif'] not found. Falling back to DejaVu Sans.\n",
      "  (prop.get_family(), self.defaultFamily[fontext]))\n"
     ]
    }
   ],
   "source": [
    "# Now lets build a quick pytest\n",
    "import numpy as np\n",
    "import pylab as plt\n",
    "import lightkurve as lk\n",
    "import matplotlib as mpl\n",
    "import astropy.units as u\n",
    "mpl.rcParams['text.usetex'] = False\n",
    "\n",
    "lc = lk.LightCurve(time=np.arange(1000), flux=np.random.normal(1, 0.1, 1000),\n",
    "                flux_err=np.zeros(1000)+0.1)\n",
    "sine = np.sin((lc.time/float(lc.time.max())) * 20 * np.pi)\n",
    "lc *= sine\n",
    "lc += 1.\n",
    "lc.plot()\n",
    "pg = lc.to_periodogram()\n",
    "pg.plot()"
   ]
  },
  {
   "cell_type": "code",
   "execution_count": 3,
   "metadata": {},
   "outputs": [],
   "source": [
    "y_fit = pg.get_lombscargle_model(lc.time)\n",
    "assert all(np.isclose(y_fit, sine+1, atol=0.01))"
   ]
  },
  {
   "cell_type": "code",
   "execution_count": null,
   "metadata": {},
   "outputs": [],
   "source": []
  }
 ],
 "metadata": {
  "kernelspec": {
   "display_name": "Python 3",
   "language": "python",
   "name": "python3"
  },
  "language_info": {
   "codemirror_mode": {
    "name": "ipython",
    "version": 3
   },
   "file_extension": ".py",
   "mimetype": "text/x-python",
   "name": "python",
   "nbconvert_exporter": "python",
   "pygments_lexer": "ipython3",
   "version": "3.6.7"
  }
 },
 "nbformat": 4,
 "nbformat_minor": 2
}

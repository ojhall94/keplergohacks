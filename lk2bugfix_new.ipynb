{
 "cells": [
  {
   "cell_type": "code",
   "execution_count": 1,
   "metadata": {},
   "outputs": [
    {
     "name": "stdout",
     "output_type": "stream",
     "text": [
      "['/usr/local/lib/python3.7/site-packages/lightkurve-2.0.dev0-py3.7.egg/lightkurve']\n"
     ]
    }
   ],
   "source": [
    "import lightkurve as lk\n",
    "print(lk.__path__)"
   ]
  },
  {
   "cell_type": "code",
   "execution_count": 2,
   "metadata": {},
   "outputs": [
    {
     "data": {
      "text/plain": [
       "['/Users/Oliver/PhD/KeplerGO/keplergohacks',\n",
       " '/usr/local/Cellar/python/3.7.4/Frameworks/Python.framework/Versions/3.7/lib/python37.zip',\n",
       " '/usr/local/Cellar/python/3.7.4/Frameworks/Python.framework/Versions/3.7/lib/python3.7',\n",
       " '/usr/local/Cellar/python/3.7.4/Frameworks/Python.framework/Versions/3.7/lib/python3.7/lib-dynload',\n",
       " '',\n",
       " '/Users/Oliver/Library/Python/3.7/lib/python/site-packages',\n",
       " '/usr/local/lib/python3.7/site-packages',\n",
       " '/usr/local/lib/python3.7/site-packages/mystyle-1.0.0-py3.7.egg',\n",
       " '/usr/local/lib/python3.7/site-packages/ClosePlots-0.1-py3.7.egg',\n",
       " '/usr/local/lib/python3.7/site-packages/SPARQLWrapper-1.8.4-py3.7.egg',\n",
       " '/usr/local/lib/python3.7/site-packages/rdflib-4.2.2-py3.7.egg',\n",
       " '/usr/local/lib/python3.7/site-packages/isodate-0.6.0-py3.7.egg',\n",
       " '/usr/local/lib/python3.7/site-packages/stateoftheuniverse-0.0-py3.7.egg',\n",
       " '/usr/local/lib/python3.7/site-packages/geopy-1.20.0-py3.7.egg',\n",
       " '/usr/local/lib/python3.7/site-packages/timezonefinder-4.1.0-py3.7.egg',\n",
       " '/usr/local/lib/python3.7/site-packages/geographiclib-1.49-py3.7.egg',\n",
       " '/usr/local/lib/python3.7/site-packages/importlib_resources-1.0.2-py3.7.egg',\n",
       " '/usr/local/lib/python3.7/site-packages/omnitool-0.4-py3.7.egg',\n",
       " '/usr/local/lib/python3.7/site-packages/pystellibs-0.1-py3.7.egg',\n",
       " '/usr/local/lib/python3.7/site-packages/dustmaps-1.0.4-py3.7.egg',\n",
       " '/usr/local/lib/python3.7/site-packages/progressbar2-3.47.0-py3.7.egg',\n",
       " '/usr/local/lib/python3.7/site-packages/healpy-1.13.0-py3.7-macosx-10.14-x86_64.egg',\n",
       " '/usr/local/lib/python3.7/site-packages/python_utils-2.3.0-py3.7.egg',\n",
       " '/usr/local/lib/python3.7/site-packages/seaborn-0.9.0-py3.7.egg',\n",
       " '/usr/local/lib/python3.7/site-packages/numba-0.49.1-py3.7-macosx-10.14-x86_64.egg',\n",
       " '/usr/local/lib/python3.7/site-packages/llvmlite-0.32.1-py3.7-macosx-10.14-x86_64.egg',\n",
       " '/usr/local/lib/python3.7/site-packages/astropy-4.1rc1-py3.7-macosx-10.14-x86_64.egg',\n",
       " '/usr/local/lib/python3.7/site-packages/lightkurve-2.0.dev0-py3.7.egg',\n",
       " '/usr/local/lib/python3.7/site-packages/geos',\n",
       " '/usr/local/lib/python3.7/site-packages',\n",
       " '/Users/Oliver/Library/Python/3.7/lib/python/site-packages/IPython/extensions',\n",
       " '/Users/Oliver/.ipython']"
      ]
     },
     "execution_count": 2,
     "metadata": {},
     "output_type": "execute_result"
    }
   ],
   "source": [
    "import sys\n",
    "sys.path"
   ]
  },
  {
   "cell_type": "code",
   "execution_count": null,
   "metadata": {},
   "outputs": [],
   "source": []
  }
 ],
 "metadata": {
  "kernelspec": {
   "display_name": "Python 3",
   "language": "python",
   "name": "python3"
  },
  "language_info": {
   "codemirror_mode": {
    "name": "ipython",
    "version": 3
   },
   "file_extension": ".py",
   "mimetype": "text/x-python",
   "name": "python",
   "nbconvert_exporter": "python",
   "pygments_lexer": "ipython3",
   "version": "3.7.4"
  }
 },
 "nbformat": 4,
 "nbformat_minor": 2
}

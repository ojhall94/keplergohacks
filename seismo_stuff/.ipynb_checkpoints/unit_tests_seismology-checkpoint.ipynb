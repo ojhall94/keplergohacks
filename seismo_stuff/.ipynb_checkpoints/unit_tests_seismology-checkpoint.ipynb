{
 "cells": [
  {
   "cell_type": "markdown",
   "metadata": {},
   "source": [
    "# Unit Tests for Seismology"
   ]
  },
  {
   "cell_type": "code",
   "execution_count": 1,
   "metadata": {},
   "outputs": [],
   "source": [
    "import numpy as np\n",
    "from lightkurve import seismology as seis\n",
    "from uncertainties import ufloat\n",
    "from astropy import units as u\n",
    "from astropy.constants import G\n",
    "import astropy.constants as const"
   ]
  },
  {
   "cell_type": "markdown",
   "metadata": {},
   "source": [
    "### Define our check standards\n",
    "We'll the Red Giant KIC 2570518 from the Yu et al. 2018 catalogue"
   ]
  },
  {
   "cell_type": "code",
   "execution_count": 2,
   "metadata": {},
   "outputs": [],
   "source": [
    "cM = ufloat(1.30, 0.09)\n",
    "cR = ufloat(9.91, 0.24)\n",
    "clogg = ufloat(2.559, 0.009)\n",
    "ceteff = 80\n",
    "cenumax = 0.75\n",
    "cednu = 0.012\n",
    "cteff = 4531\n",
    "cnumax = 46.12\n",
    "cdnu = 4.934"
   ]
  },
  {
   "cell_type": "markdown",
   "metadata": {},
   "source": [
    "### Check Constants"
   ]
  },
  {
   "cell_type": "code",
   "execution_count": 3,
   "metadata": {},
   "outputs": [],
   "source": [
    "\"\"\"Assert the basic solar parameters are still loaded in and have \n",
    "appopriate units where necessary\"\"\"\n",
    "assert seis.numaxsol.n == 3090.0\n",
    "assert seis.numaxsol.s == 30.0\n",
    "assert seis.dnusol.n == 135.1\n",
    "assert seis.dnusol.s == 0.1\n",
    "assert seis.teffsol.n == 5772.\n",
    "assert seis.teffsol.s == 0.8\n",
    "assert np.isclose(seis.gsol.value, 27420)\n",
    "assert seis.gsol.unit == u.cm/u.second**2"
   ]
  },
  {
   "cell_type": "markdown",
   "metadata": {},
   "source": [
    "### Estimate_Radius\n",
    "[x] Check numax has appropriate units\n",
    "\n",
    "[x] Works with numax in any unit\n",
    "\n",
    "[x] Works with dnu in any unit\n",
    "\n",
    "[x] Works with Teff with/without unit\n",
    "\n",
    "[x] Returns R in appropriate unit\n",
    "\n",
    "[x] Returns valid R for known target"
   ]
  },
  {
   "cell_type": "code",
   "execution_count": 4,
   "metadata": {},
   "outputs": [],
   "source": [
    "R = seis.estimate_radius(cnumax, cdnu, cteff)\n",
    "\n",
    "#Check units\n",
    "assert(R.unit == u.solRad)\n",
    "\n",
    "# Check returns right answer\n",
    "assert(np.isclose(R.value, cR.n, rtol=cR.s))\n",
    "\n",
    "# Check units on parameters\n",
    "R = seis.estimate_radius(u.Quantity(cnumax, u.microhertz), cdnu, cteff)\n",
    "assert(np.isclose(R.value, cR.n, rtol=cR.s))\n",
    "\n",
    "R = seis.estimate_radius(cnumax, u.Quantity(cdnu, u.microhertz), cteff)\n",
    "assert(np.isclose(R.value, cR.n, rtol=cR.s))\n",
    "\n",
    "R = seis.estimate_radius(cnumax, cdnu, u.Quantity(cteff, u.Kelvin))\n",
    "assert(np.isclose(R.value, cR.n, rtol=cR.s))\n",
    "\n",
    "#Check works with a random selection of appropriate units\n",
    "R = seis.estimate_radius(u.Quantity(cnumax, u.microhertz).to(1/u.day),\n",
    "                         u.Quantity(cdnu, u.microhertz).to(u.hertz),\n",
    "                         cteff)\n",
    "assert(np.isclose(R.value, cR.n, rtol=cR.s))"
   ]
  },
  {
   "cell_type": "markdown",
   "metadata": {},
   "source": [
    "### Estimate_Radius kwargs\n",
    "[x] Check both error and radius have correct units\n",
    "\n",
    "[ ] Only returns single value if fewer than 3 errors are passed\n",
    "\n",
    "[x] Works with numax_err in any unit\n",
    "\n",
    "[x] Works with dnu_err in any unit\n",
    "\n",
    "[x] Works with Teff_err with/without unit"
   ]
  },
  {
   "cell_type": "code",
   "execution_count": 19,
   "metadata": {},
   "outputs": [],
   "source": [
    "R, Re = seis.estimate_radius(cnumax, cdnu, cteff,\n",
    "                            cenumax, cednu, ceteff)\n",
    "\n",
    "#Check conditions for return\n",
    "t = seis.estimate_radius(cnumax, cdnu, cteff, cenumax, cednu)\n",
    "assert t.shape == ()\n",
    "t = seis.estimate_radius(cnumax, cdnu, cteff, cenumax, cednu, ceteff)\n",
    "assert len(t) == 2\n",
    "\n",
    "#Check units\n",
    "assert R.unit == u.solRad\n",
    "assert Re.unit == u.solRad\n",
    "\n",
    "# Check returns right answer\n",
    "assert(np.isclose(R.value, cR.n, atol=cR.s))\n",
    "assert(np.isclose(Re.value, cR.s, atol=.1))\n",
    "\n",
    "# Check units on parameters\n",
    "R, Re = seis.estimate_radius(cnumax, cdnu, cteff,\n",
    "                    u.Quantity(cenumax, u.microhertz), cednu, ceteff)\n",
    "assert(np.isclose(R.value, cR.n, rtol=cR.s))\n",
    "assert(np.isclose(Re.value, cR.s, atol=.1))\n",
    "\n",
    "R, Re = seis.estimate_radius(cnumax, cdnu, cteff,\n",
    "                    cenumax, u.Quantity(cednu, u.microhertz), ceteff)\n",
    "assert(np.isclose(R.value, cR.n, rtol=cR.s))\n",
    "assert(np.isclose(Re.value, cR.s, atol=.1))\n",
    "\n",
    "R, Re = seis.estimate_radius(cnumax, cdnu, cteff,\n",
    "                    cenumax, cednu, u.Quantity(ceteff, u.Kelvin))\n",
    "assert(np.isclose(R.value, cR.n, rtol=cR.s))\n",
    "assert(np.isclose(Re.value, cR.s, atol=.1))\n",
    "\n",
    "#Check works with a random selection of appropriate units\n",
    "R, Re = seis.estimate_radius(cnumax, cdnu, cteff,\n",
    "                         u.Quantity(cenumax, u.microhertz).to(1/u.day),\n",
    "                         u.Quantity(cednu, u.microhertz).to(u.hertz),\n",
    "                         ceteff)\n",
    "assert(np.isclose(R.value, cR.n, rtol=cR.s))\n",
    "assert(np.isclose(Re.value, cR.s, atol=.1))"
   ]
  },
  {
   "cell_type": "code",
   "execution_count": 24,
   "metadata": {},
   "outputs": [
    {
     "data": {
      "text/plain": [
       "(<Quantity 9.91464336 solRad>, <Quantity 0.21322282 solRad>)"
      ]
     },
     "execution_count": 24,
     "metadata": {},
     "output_type": "execute_result"
    }
   ],
   "source": []
  },
  {
   "cell_type": "code",
   "execution_count": 7,
   "metadata": {},
   "outputs": [
    {
     "data": {
      "text/plain": [
       "0.02132228235628586"
      ]
     },
     "execution_count": 7,
     "metadata": {},
     "output_type": "execute_result"
    }
   ],
   "source": [
    "0.1 * Re.value"
   ]
  },
  {
   "cell_type": "code",
   "execution_count": null,
   "metadata": {},
   "outputs": [],
   "source": []
  },
  {
   "cell_type": "code",
   "execution_count": null,
   "metadata": {},
   "outputs": [],
   "source": []
  },
  {
   "cell_type": "code",
   "execution_count": 8,
   "metadata": {},
   "outputs": [
    {
     "ename": "AttributeError",
     "evalue": "'float' object has no attribute 'n'",
     "output_type": "error",
     "traceback": [
      "\u001b[0;31m---------------------------------------------------------------------------\u001b[0m",
      "\u001b[0;31mAttributeError\u001b[0m                            Traceback (most recent call last)",
      "\u001b[0;32m<ipython-input-8-1e81eb1edb92>\u001b[0m in \u001b[0;36m<module>\u001b[0;34m\u001b[0m\n\u001b[0;32m----> 1\u001b[0;31m \u001b[0mM\u001b[0m \u001b[0;34m=\u001b[0m \u001b[0mseis\u001b[0m\u001b[0;34m.\u001b[0m\u001b[0mestimate_mass\u001b[0m\u001b[0;34m(\u001b[0m\u001b[0mcnumax\u001b[0m\u001b[0;34m.\u001b[0m\u001b[0mn\u001b[0m\u001b[0;34m,\u001b[0m \u001b[0mcdnu\u001b[0m\u001b[0;34m.\u001b[0m\u001b[0mn\u001b[0m\u001b[0;34m,\u001b[0m \u001b[0mcteff\u001b[0m\u001b[0;34m.\u001b[0m\u001b[0mn\u001b[0m\u001b[0;34m)\u001b[0m\u001b[0;34m\u001b[0m\u001b[0;34m\u001b[0m\u001b[0m\n\u001b[0m\u001b[1;32m      2\u001b[0m \u001b[0mlogg\u001b[0m \u001b[0;34m=\u001b[0m \u001b[0mseis\u001b[0m\u001b[0;34m.\u001b[0m\u001b[0mestimate_logg\u001b[0m\u001b[0;34m(\u001b[0m\u001b[0mcnumax\u001b[0m\u001b[0;34m.\u001b[0m\u001b[0mn\u001b[0m\u001b[0;34m,\u001b[0m \u001b[0mcteff\u001b[0m\u001b[0;34m.\u001b[0m\u001b[0mn\u001b[0m\u001b[0;34m)\u001b[0m\u001b[0;34m\u001b[0m\u001b[0;34m\u001b[0m\u001b[0m\n\u001b[1;32m      3\u001b[0m \u001b[0;34m\u001b[0m\u001b[0m\n\u001b[1;32m      4\u001b[0m \u001b[0;32massert\u001b[0m\u001b[0;34m(\u001b[0m\u001b[0mM\u001b[0m\u001b[0;34m.\u001b[0m\u001b[0munit\u001b[0m \u001b[0;34m==\u001b[0m \u001b[0mu\u001b[0m\u001b[0;34m.\u001b[0m\u001b[0msolMass\u001b[0m\u001b[0;34m)\u001b[0m\u001b[0;34m\u001b[0m\u001b[0;34m\u001b[0m\u001b[0m\n\u001b[1;32m      5\u001b[0m \u001b[0;32massert\u001b[0m\u001b[0;34m(\u001b[0m\u001b[0mlogg\u001b[0m\u001b[0;34m.\u001b[0m\u001b[0munit\u001b[0m \u001b[0;34m==\u001b[0m \u001b[0mu\u001b[0m\u001b[0;34m.\u001b[0m\u001b[0mdex\u001b[0m\u001b[0;34m)\u001b[0m\u001b[0;34m\u001b[0m\u001b[0;34m\u001b[0m\u001b[0m\n",
      "\u001b[0;31mAttributeError\u001b[0m: 'float' object has no attribute 'n'"
     ]
    }
   ],
   "source": [
    "M = seis.estimate_mass(cnumax.n, cdnu.n, cteff.n)\n",
    "logg = seis.estimate_logg(cnumax.n, cteff.n)\n",
    "\n",
    "assert(M.unit == u.solMass)\n",
    "assert(logg.unit == u.dex)\n",
    "\n",
    "assert(np.isclose(M.value, cM.n, rtol=cM.s))\n",
    "assert(np.isclose(logg.value, clogg.n, rtol=clogg.s))"
   ]
  }
 ],
 "metadata": {
  "kernelspec": {
   "display_name": "Python 3",
   "language": "python",
   "name": "python3"
  },
  "language_info": {
   "codemirror_mode": {
    "name": "ipython",
    "version": 3
   },
   "file_extension": ".py",
   "mimetype": "text/x-python",
   "name": "python",
   "nbconvert_exporter": "python",
   "pygments_lexer": "ipython3",
   "version": "3.7.3"
  }
 },
 "nbformat": 4,
 "nbformat_minor": 2
}

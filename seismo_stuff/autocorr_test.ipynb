{
 "cells": [
  {
   "cell_type": "markdown",
   "metadata": {},
   "source": [
    "# Test on a RGB star"
   ]
  },
  {
   "cell_type": "code",
   "execution_count": 1,
   "metadata": {},
   "outputs": [],
   "source": [
    "import lightkurve as lk\n",
    "import warnings\n",
    "warnings.filterwarnings('ignore')"
   ]
  },
  {
   "cell_type": "code",
   "execution_count": null,
   "metadata": {
    "scrolled": false
   },
   "outputs": [],
   "source": [
    "datalist = lk.search_lightcurvefile('KIC11615890')\n",
    "data = datalist.download_all()\n",
    "lc = data[0].PDCSAP_FLUX.normalize().flatten()\n",
    "for nlc in data[0:4]:\n",
    "    lc = lc.append(nlc.PDCSAP_FLUX.normalize().flatten())\n",
    "lc = lc.remove_nans()\n",
    "pg = lc.to_periodogram(normalization='psd')\n",
    "snr = pg.flatten()"
   ]
  },
  {
   "cell_type": "code",
   "execution_count": null,
   "metadata": {},
   "outputs": [],
   "source": [
    "numax, ax = snr.estimate_numax(show_plots=True)\n",
    "print('Our value for numax is: {:.2f}'.format(numax))"
   ]
  },
  {
   "cell_type": "code",
   "execution_count": null,
   "metadata": {},
   "outputs": [],
   "source": [
    "dnu, ax = snr.estimate_dnu(show_plots=True)\n",
    "print('Our value for dnu is: {:.2f}'.format(dnu))"
   ]
  },
  {
   "cell_type": "markdown",
   "metadata": {},
   "source": [
    "# Test on a MS Star"
   ]
  },
  {
   "cell_type": "code",
   "execution_count": null,
   "metadata": {},
   "outputs": [],
   "source": [
    "datalist = lk.search_lightcurvefile('16CygA',cadence='short')\n",
    "data = datalist[3:4].download_all()\n",
    "lc = data[0].PDCSAP_FLUX.normalize().flatten()\n",
    "for nlc in data:\n",
    "    lc = lc.append(nlc.PDCSAP_FLUX.normalize().flatten())\n",
    "lc = lc.remove_nans()\n",
    "pg = lc.to_periodogram(normalization='psd')\n",
    "snr = pg.flatten()"
   ]
  },
  {
   "cell_type": "code",
   "execution_count": null,
   "metadata": {},
   "outputs": [],
   "source": [
    "numax, ax = snr.estimate_numax(show_plots=True)\n",
    "print('Our value for numax is: {:.2f}'.format(numax))"
   ]
  },
  {
   "cell_type": "code",
   "execution_count": null,
   "metadata": {},
   "outputs": [],
   "source": [
    "dnu, ax = snr.estimate_dnu(show_plots=True)\n",
    "print('Our value for dnu is: {:.2f}'.format(dnu))"
   ]
  },
  {
   "cell_type": "markdown",
   "metadata": {},
   "source": [
    "# Concept testing"
   ]
  },
  {
   "cell_type": "code",
   "execution_count": null,
   "metadata": {},
   "outputs": [],
   "source": [
    "import numpy as np\n",
    "acf = snr._autocorrelate(numax.value)\n",
    "dnu_emp = 0.294 * numax.value ** 0.772\n",
    "fs = np.median(np.diff(snr.frequency.value))\n",
    "lags = np.linspace(0, len(acf)*fs, len(acf))\n",
    "sel = (lags > dnu_emp - .15*dnu_emp) & (lags < dnu_emp + .15*dnu_emp)\n",
    "best_dnu = lags[sel][np.argmax(acf[sel])]\n"
   ]
  },
  {
   "cell_type": "code",
   "execution_count": null,
   "metadata": {},
   "outputs": [],
   "source": [
    "from mpl_toolkits.axes_grid1.inset_locator import inset_axes\n",
    "\n",
    "\n",
    "fig, ax = plt.subplots(figsize=(8.485, 4))\n",
    "ax.plot(lags,acf)\n",
    "ax.set_xlabel(r'Frequency Lag [$\\mu$Hz]')\n",
    "ax.set_ylabel(r'Correlation')\n",
    "ax.axvline(best_dnu,c='r', linewidth=2,alpha=.4,\n",
    "    label=r'{:.2f} $\\mu$Hz'.format(best_dnu))\n",
    "ax.set_title(r'ACF vs Lag for a given $\\nu_{\\rm max}$')\n",
    "\n",
    "axin = inset_axes(ax, width=\"50%\",height=\"50%\", loc=\"upper right\")\n",
    "axin.set_yticks([])\n",
    "axin.plot(lags[sel],acf[sel])\n",
    "axin.axvline(best_dnu,c='r', linewidth=2,alpha=.4,\n",
    "    label=r'{:.2f} $\\mu$Hz'.format(best_dnu))\n",
    "axin.legend(loc='best')\n",
    "\n"
   ]
  },
  {
   "cell_type": "code",
   "execution_count": null,
   "metadata": {},
   "outputs": [],
   "source": [
    "import pylab as plt\n",
    "fig = plt.figure(figsize=(12,6))\n",
    "dnuemp = 0.294 * numax.value**0.772\n",
    "truth = 102.\n",
    "dnu = lags[lags>20][np.argmax(acf[lags>20])]\n",
    "plt.plot(lags, acf)\n",
    "plt.axvline(truth, linestyle=':',linewidth=15)\n",
    "plt.axvline(dnu, linestyle='--',linewidth=10, c='r')\n",
    "plt.xlim(dnuemp-.15*dnuemp, dnuemp+.15*dnuemp)"
   ]
  },
  {
   "cell_type": "code",
   "execution_count": null,
   "metadata": {},
   "outputs": [],
   "source": []
  },
  {
   "cell_type": "code",
   "execution_count": null,
   "metadata": {},
   "outputs": [],
   "source": []
  },
  {
   "cell_type": "code",
   "execution_count": null,
   "metadata": {},
   "outputs": [],
   "source": []
  }
 ],
 "metadata": {
  "kernelspec": {
   "display_name": "Python 3",
   "language": "python",
   "name": "python3"
  },
  "language_info": {
   "codemirror_mode": {
    "name": "ipython",
    "version": 3
   },
   "file_extension": ".py",
   "mimetype": "text/x-python",
   "name": "python",
   "nbconvert_exporter": "python",
   "pygments_lexer": "ipython3",
   "version": "3.6.5"
  }
 },
 "nbformat": 4,
 "nbformat_minor": 2
}

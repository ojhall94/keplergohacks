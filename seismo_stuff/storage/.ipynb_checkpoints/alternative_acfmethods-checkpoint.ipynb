{
 "cells": [
  {
   "cell_type": "markdown",
   "metadata": {},
   "source": [
    "Flat ACF"
   ]
  },
  {
   "cell_type": "code",
   "execution_count": null,
   "metadata": {},
   "outputs": [],
   "source": [
    "elif method=='flat':\n",
    "    if u.Quantity(self.frequency[-1], u.microhertz) > u.Quantity(500., u.microhertz):\n",
    "        window = 250.\n",
    "    else:\n",
    "        window = 25.\n",
    "\n",
    "    numaxs = np.arange(window/2, np.floor(np.nanmax(self.frequency.value)) - window/2, 1.)\n",
    "    metric = np.zeros(len(numaxs))\n",
    "    for idx, numax in enumerate(numaxs):\n",
    "        acf = self._autocorrelate(numax, method='flat', window=window)\n",
    "        metric[idx] = (np.sum(np.abs(acf)) - 1 ) / len(acf)"
   ]
  },
  {
   "cell_type": "markdown",
   "metadata": {},
   "source": [
    "H0 Test"
   ]
  },
  {
   "cell_type": "code",
   "execution_count": null,
   "metadata": {},
   "outputs": [],
   "source": [
    "if method=='H0':\n",
    "    h0 = 1.0 - np.exp(-self.power.value)      #Calculate probability signal is not noise\n",
    "    det = self.frequency[h0 > 0.98].value       #Call it a detection if >98% likely\n",
    "    for idx, numax in enumerate(numaxs):        #Cycle through a range of numax values\n",
    "        width = self._get_fwhm(numax)           #Calculate how many detections fall within the fwhm\n",
    "        inliers = len(det[np.abs(det - numax) < width]/10) / width\n",
    "        metric[idx] = inliers"
   ]
  },
  {
   "cell_type": "code",
   "execution_count": null,
   "metadata": {},
   "outputs": [],
   "source": [
    "def _autocorrelate(self, numax, method='hanning', window=250.):\n",
    "    \"\"\"An autocorrelation function (ACF) for seismic mode envelopes.\n",
    "    We autocorrelate the region one FWHM of the mode envelope either side\n",
    "    of the proposed numax.\n",
    "    Before autocorrelating, it multiplies the section with a hanning\n",
    "    window, which will increase the autocorrelation power if the region\n",
    "    has a Gaussian shape, as we'd expect for seismic oscillations.\n",
    "\n",
    "    Parameters:\n",
    "    ----------\n",
    "        numax : float\n",
    "            The estimated position of the numax of the power spectrum. This\n",
    "            is used to calculated the region autocorrelated with itself.\n",
    "\n",
    "    Returns:\n",
    "    --------\n",
    "        acf : array-like\n",
    "            The autocorrelation power calculated for the given numax\n",
    "    \"\"\"\n",
    "    fs = np.median(np.diff(self.frequency.value))\n",
    "\n",
    "    if method == 'hanning':\n",
    "        fwhm = int(np.floor(self._get_fwhm(numax) / fs))    # Express the fwhm in indices\n",
    "        # fwhm -= fwhm % 2                                  # Make the FWHM value even (%2 = 0 if even, 1 if odd)\n",
    "        x = int(numax / fs)                                 #Find the index value of numax\n",
    "        s = np.hanning(len(self.power[x-fwhm:x+fwhm]))      #Define the hanning window for the evaluated frequency space\n",
    "        p_han = self.power[x-fwhm:x+fwhm].value * s         #Multiply the evaluated SNR space by the hanning window\n",
    "\n",
    "    elif method == 'flat':\n",
    "        spread = int(window/2/fs)\n",
    "        x = int(numax / fs)\n",
    "        p_han = self.power[x-spread:x+spread].value\n",
    "\n",
    "    C = np.correlate(p_han, p_han, mode='full')         #Correlated the resulting SNR space with itself\n",
    "    C = C[len(p_han)-1:]                                #Truncate the ACF\n",
    "    return C\n"
   ]
  }
 ],
 "metadata": {
  "kernelspec": {
   "display_name": "Python 3",
   "language": "python",
   "name": "python3"
  },
  "language_info": {
   "codemirror_mode": {
    "name": "ipython",
    "version": 3
   },
   "file_extension": ".py",
   "mimetype": "text/x-python",
   "name": "python",
   "nbconvert_exporter": "python",
   "pygments_lexer": "ipython3",
   "version": "3.7.3"
  }
 },
 "nbformat": 4,
 "nbformat_minor": 2
}

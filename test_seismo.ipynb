{
 "cells": [
  {
   "cell_type": "code",
   "execution_count": 1,
   "metadata": {},
   "outputs": [],
   "source": [
    "import numpy as np\n",
    "import sys\n",
    "sys.path.append('/Users/Oliver/PhD/Hacks & Packages/lightkurve/lightkurve/')\n",
    "from asteroseismology import *\n"
   ]
  },
  {
   "cell_type": "code",
   "execution_count": 2,
   "metadata": {},
   "outputs": [],
   "source": [
    "from astropy import units as u\n",
    "from astropy import constants as const\n",
    "\"\"\"Asteroseismic parameters\"\"\"\n",
    "Numaxsol = 3090 #[Huber et al 2011]\n",
    "eNumaxsol = 30 #[Huber et al 2011]\n",
    "Dnusol = 135.1  #[Huber et al 2011]\n",
    "eDnusol = 0.1 #[Huber et al 2011]\n",
    "\"\"\"Solar parameters\"\"\"\n",
    "Tsol = 5777 #[Williams 2013]"
   ]
  },
  {
   "cell_type": "code",
   "execution_count": 7,
   "metadata": {},
   "outputs": [
    {
     "data": {
      "text/latex": [
       "$0.99009901 \\; \\mathrm{R_{\\odot}}$"
      ],
      "text/plain": [
       "<Quantity 0.99009901 solRad>"
      ]
     },
     "execution_count": 7,
     "metadata": {},
     "output_type": "execute_result"
    }
   ],
   "source": [
    "estimate_radius(Numaxsol, Dnusol, Tsol, fnumax=1.01)"
   ]
  },
  {
   "cell_type": "code",
   "execution_count": 8,
   "metadata": {},
   "outputs": [
    {
     "data": {
      "text/latex": [
       "$0.97059015 \\; \\mathrm{M_{\\odot}}$"
      ],
      "text/plain": [
       "<Quantity 0.97059015 solMass>"
      ]
     },
     "execution_count": 8,
     "metadata": {},
     "output_type": "execute_result"
    }
   ],
   "source": [
    "estimate_mass(Numaxsol, Dnusol, Tsol, fnumax=1.01)"
   ]
  },
  {
   "cell_type": "code",
   "execution_count": 11,
   "metadata": {},
   "outputs": [
    {
     "data": {
      "text/latex": [
       "$4.4337463 \\; \\mathrm{dex}$"
      ],
      "text/plain": [
       "<Quantity 4.43374625 dex>"
      ]
     },
     "execution_count": 11,
     "metadata": {},
     "output_type": "execute_result"
    }
   ],
   "source": [
    "estimate_logg(Numaxsol, Tsol, fnumax=1.01)"
   ]
  },
  {
   "cell_type": "code",
   "execution_count": null,
   "metadata": {},
   "outputs": [],
   "source": []
  }
 ],
 "metadata": {
  "kernelspec": {
   "display_name": "Python 3",
   "language": "python",
   "name": "python3"
  },
  "language_info": {
   "codemirror_mode": {
    "name": "ipython",
    "version": 3
   },
   "file_extension": ".py",
   "mimetype": "text/x-python",
   "name": "python",
   "nbconvert_exporter": "python",
   "pygments_lexer": "ipython3",
   "version": "3.6.5"
  }
 },
 "nbformat": 4,
 "nbformat_minor": 2
}
